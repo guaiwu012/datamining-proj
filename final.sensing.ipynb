{
 "cells": [
  {
   "cell_type": "code",
   "execution_count": null,
   "metadata": {},
   "outputs": [],
   "source": [
    "# 首先，步频，提特征\n",
    "import pandas as pd\n",
    "import numpy as np\n",
    "import matplotlib.pyplot as plt\n",
    "import os\n",
    "import matplotlib.pyplot as plt\n",
    "from tslearn.clustering import KShape\n",
    "from tslearn.datasets import CachedDatasets\n",
    "from tslearn.preprocessing import TimeSeriesScalerMeanVariance\n",
    "import numpy as np\n",
    "import glob\n",
    "from tslearn.generators import random_walks\n",
    "import tslearn.metrics as metrics\n",
    "os.chdir(r'Z:\\main\\Data Mining\\College Experience Study Dataset')\n",
    "\n",
    "\n",
    "def preprocessing(i,nickname,n,n1,n2):\n",
    "    data = sensing_df[['uid','day',sensing_cols[i]]]\n",
    "    data_main = data[np.isnan(data[sensing_cols[i]])]\n",
    "    ind = list(data_main.index)\n",
    "    data_main = data.drop(index=ind,axis=0)\n",
    "    data_main= data_main[data_main[sensing_cols[i]] != 0]\n",
    "    data_main = data_main.reset_index()\n",
    "    data_main = data_main.drop(['index'], axis=1)\n",
    "    mean_list = []\n",
    "    uid = list(set(data_main['uid']))\n",
    "    for x in uid:\n",
    "        test = data_main[data_main['uid'] == x]\n",
    "        mean_list.append(np.mean(list(test[sensing_cols[i]])))\n",
    "    label = {'uid':uid,'mean':mean_list}\n",
    "    label = pd.DataFrame(label)\n",
    "    data_main = pd.merge(data_main,label,on='uid',how='outer')\n",
    "    data_main[nickname] = data_main[sensing_cols[i]] - data_main['mean']\n",
    "    data_main = data_main[['uid','day', nickname]]\n",
    "    patient_name = list(set(list(data_main['uid'])))\n",
    "    time_point = sorted(list(set(data_main['day'])))\n",
    "    test = pd.DataFrame(columns=time_point,index=patient_name)\n",
    "    test = test.fillna(0)\n",
    "    for x in range(len(data_main)):\n",
    "        test.loc[data_main.loc[x,'uid'],data_main.loc[x,'day']] = data_main.loc[x,nickname]\n",
    "    test = np.array(test,dtype=np.float16)\n",
    "    test = np.nan_to_num(test)\n",
    "    np.random.shuffle(test)\n",
    "    test = TimeSeriesScalerMeanVariance().fit_transform(test)\n",
    "    sz = test.shape[1]\n",
    "    seed = 0\n",
    "    np.random.seed(seed)\n",
    "    ks = KShape(n_clusters=5, verbose=True, random_state=seed)\n",
    "    y_pred = ks.fit_predict(test)\n",
    "    plt.figure(dpi=100,figsize=(20,20))\n",
    "    for yi in range(n):\n",
    "        plt.subplot(n1, n2, 1 + yi)\n",
    "        for xx in test[y_pred == yi]:\n",
    "            plt.plot(xx.ravel(), \"k-\", alpha=.2)\n",
    "        # plt.plot(ks.cluster_centers_[yi].ravel(), \"r-\")\n",
    "        plt.xlim(0, sz)\n",
    "        plt.ylim(-6, 6)\n",
    "        plt.title(\"Cluster %d\" % (yi + 1))\n",
    "        plt.tight_layout\n",
    "    plt.show()\n",
    "\n",
    "    plt.figure(dpi=100,figsize=(20,20))\n",
    "    for yi in range(n):\n",
    "        plt.subplot(n1, n2, 1 + yi)\n",
    "        for xx in test[y_pred == yi]:\n",
    "            plt.plot(xx.ravel(), \"k-\", alpha=.2)\n",
    "        plt.plot(ks.cluster_centers_[yi].ravel(), \"r-\")\n",
    "        plt.xlim(0, sz)\n",
    "        plt.ylim(-6, 6)\n",
    "        plt.title(\"Cluster %d\" % (yi + 1))\n",
    "        plt.tight_layout\n",
    "    plt.show()\n",
    "    label = {'uid' : patient_name,'sensing_cluster' : y_pred}\n",
    "    label = pd.DataFrame(data=label)\n",
    "    test = pd.merge(data_main, label, on=['uid'],how='outer')\n",
    "    test = test[['uid','day',nickname,'sensing_cluster']]\n",
    "    test.to_csv('final.'+ nickname +'.csv',index=False)\n",
    "    return "
   ]
  },
  {
   "cell_type": "code",
   "execution_count": null,
   "metadata": {},
   "outputs": [],
   "source": [
    "merged_data_with_baseline = pd.read_csv('./tried/merged_data_with_baseline.csv')\n",
    "merged_data_with_baseline = merged_data_with_baseline.drop(['step_ep_0','act_in_vehicle_ep_0','loc_dist_ep_0','stride_actual','phq4_score','stride_baseline'],axis=1)\n",
    "merged_data_with_baseline"
   ]
  },
  {
   "cell_type": "code",
   "execution_count": null,
   "metadata": {},
   "outputs": [],
   "source": [
    "stride = merged_data_with_baseline\n",
    "patient_name = list(set(list(stride['uid'])))\n",
    "time_point = sorted(list(set(stride['day'])))\n",
    "test = pd.DataFrame(columns=time_point,index=patient_name)\n",
    "test = test.fillna(0)\n",
    "for x in range(len(stride)):\n",
    "    test.loc[stride.loc[x,'uid'],stride.loc[x,'day']] = stride.loc[x,'stride_deviation']\n",
    "test = np.array(test,dtype=np.float16)\n",
    "test = np.nan_to_num(test)\n",
    "np.random.shuffle(test)\n",
    "test = TimeSeriesScalerMeanVariance().fit_transform(test)\n",
    "sz = test.shape[1]\n",
    "seed = 0\n",
    "np.random.seed(seed)\n",
    "ks = KShape(n_clusters=5, verbose=True, random_state=seed)\n",
    "y_pred = ks.fit_predict(test)"
   ]
  },
  {
   "cell_type": "code",
   "execution_count": null,
   "metadata": {},
   "outputs": [],
   "source": [
    "plt.figure(dpi=100,figsize=(20,20))\n",
    "for yi in range(5):\n",
    "    plt.subplot(4, 5, 1 + yi)\n",
    "    for xx in test[y_pred == yi]:\n",
    "        plt.plot(xx.ravel(), \"k-\", alpha=.2)\n",
    "    # plt.plot(ks.cluster_centers_[yi].ravel(), \"r-\")\n",
    "    plt.xlim(0, sz)\n",
    "    plt.ylim(-6, 6)\n",
    "    plt.title(\"Cluster %d\" % (yi + 1))\n",
    "    plt.tight_layout\n",
    "plt.show()\n",
    "\n",
    "plt.figure(dpi=100,figsize=(20,20))\n",
    "for yi in range(5):\n",
    "    plt.subplot(4, 5, 1 + yi)\n",
    "    for xx in test[y_pred == yi]:\n",
    "        plt.plot(xx.ravel(), \"k-\", alpha=.2)\n",
    "    plt.plot(ks.cluster_centers_[yi].ravel(), \"r-\")\n",
    "    plt.xlim(0, sz)\n",
    "    plt.ylim(-6, 6)\n",
    "    plt.title(\"Cluster %d\" % (yi + 1))\n",
    "    plt.tight_layout\n",
    "plt.show()"
   ]
  },
  {
   "cell_type": "code",
   "execution_count": null,
   "metadata": {},
   "outputs": [],
   "source": [
    "label = {'uid' : patient_name,'sensing_cluster' : y_pred}\n",
    "label = pd.DataFrame(data=label)\n",
    "test = pd.merge(merged_data_with_baseline, label, on=['uid'],how='outer')\n",
    "test\n",
    "test = test[['uid','day','stride_deviation','sensing_cluster']]\n",
    "test.to_csv('final.strike.csv',index=False)"
   ]
  },
  {
   "cell_type": "code",
   "execution_count": null,
   "metadata": {},
   "outputs": [],
   "source": [
    "sensing_cols = [\n",
    "    'act_on_foot_ep_0',\n",
    "    'act_walking_ep_0', \n",
    "    'audio_amp_mean_ep_0', \n",
    "    'audio_convo_duration_ep_0', \n",
    "    'audio_convo_num_ep_0', \n",
    "    'audio_voice_ep_0', \n",
    "    'loc_social_audio_amp', \n",
    "    'loc_social_audio_voice', \n",
    "    'loc_social_convo_duration', \n",
    "    'loc_social_convo_num', \n",
    "    'loc_social_dur', \n",
    "    'loc_social_still', \n",
    "    'loc_social_unlock_duration', \n",
    "    'loc_social_unlock_num',\n",
    "    'sleep_duration', \n",
    "    'sleep_end', \n",
    "    'sleep_start'\n",
    "]"
   ]
  },
  {
   "cell_type": "code",
   "execution_count": null,
   "metadata": {},
   "outputs": [],
   "source": [
    "sensing_df = pd.read_csv(r'Z:\\main\\Data Mining\\College Experience Study Dataset\\Sensing\\sensing.csv')"
   ]
  },
  {
   "cell_type": "code",
   "execution_count": null,
   "metadata": {},
   "outputs": [],
   "source": [
    "preprocessing(0,'foot',5,4,5)\n"
   ]
  },
  {
   "cell_type": "code",
   "execution_count": null,
   "metadata": {},
   "outputs": [],
   "source": [
    "preprocessing(1,'walking',5,4,5)"
   ]
  },
  {
   "cell_type": "code",
   "execution_count": null,
   "metadata": {},
   "outputs": [],
   "source": [
    "preprocessing(2,'audio_amp',5,4,5)"
   ]
  },
  {
   "cell_type": "code",
   "execution_count": null,
   "metadata": {},
   "outputs": [],
   "source": [
    "preprocessing(3,'convo_duration',5,4,5)"
   ]
  },
  {
   "cell_type": "code",
   "execution_count": null,
   "metadata": {},
   "outputs": [],
   "source": [
    "preprocessing(4,'convo_number',5,4,5)"
   ]
  },
  {
   "cell_type": "code",
   "execution_count": null,
   "metadata": {},
   "outputs": [],
   "source": [
    "preprocessing(5,'voice',5,4,5)"
   ]
  },
  {
   "cell_type": "code",
   "execution_count": null,
   "metadata": {},
   "outputs": [],
   "source": [
    "preprocessing(6,'social_audio_amp',5,4,5)"
   ]
  },
  {
   "cell_type": "code",
   "execution_count": null,
   "metadata": {},
   "outputs": [],
   "source": [
    "preprocessing(7,'social_audio_voice',5,4,5)"
   ]
  },
  {
   "cell_type": "code",
   "execution_count": null,
   "metadata": {},
   "outputs": [],
   "source": [
    "preprocessing(8,'social_convo_duration',5,4,5)"
   ]
  },
  {
   "cell_type": "code",
   "execution_count": null,
   "metadata": {},
   "outputs": [],
   "source": [
    "preprocessing(9,'social_convo_number',5,4,5)"
   ]
  },
  {
   "cell_type": "code",
   "execution_count": null,
   "metadata": {},
   "outputs": [],
   "source": [
    "preprocessing(10,'social_duration',5,4,5)"
   ]
  },
  {
   "cell_type": "code",
   "execution_count": null,
   "metadata": {},
   "outputs": [],
   "source": [
    "preprocessing(11,'social_still',5,4,5)"
   ]
  },
  {
   "cell_type": "code",
   "execution_count": null,
   "metadata": {},
   "outputs": [],
   "source": [
    "preprocessing(12,'unlock_duration',5,4,5)"
   ]
  },
  {
   "cell_type": "code",
   "execution_count": null,
   "metadata": {},
   "outputs": [],
   "source": [
    "preprocessing(13,'unlock_number',5,4,5)"
   ]
  },
  {
   "cell_type": "code",
   "execution_count": null,
   "metadata": {},
   "outputs": [],
   "source": [
    "preprocessing(14,'sleep_duration',5,4,5)"
   ]
  },
  {
   "cell_type": "code",
   "execution_count": null,
   "metadata": {},
   "outputs": [],
   "source": [
    "preprocessing(15,'sleep_start',5,4,5)"
   ]
  },
  {
   "cell_type": "code",
   "execution_count": null,
   "metadata": {},
   "outputs": [],
   "source": [
    "preprocessing(16,'sleep_end',5,4,5)"
   ]
  }
 ],
 "metadata": {
  "kernelspec": {
   "display_name": "Python 3",
   "language": "python",
   "name": "python3"
  },
  "language_info": {
   "codemirror_mode": {
    "name": "ipython",
    "version": 3
   },
   "file_extension": ".py",
   "mimetype": "text/x-python",
   "name": "python",
   "nbconvert_exporter": "python",
   "pygments_lexer": "ipython3",
   "version": "3.9.5"
  },
  "orig_nbformat": 4
 },
 "nbformat": 4,
 "nbformat_minor": 2
}
